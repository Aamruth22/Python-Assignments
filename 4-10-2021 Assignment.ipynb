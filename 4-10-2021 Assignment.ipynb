{
 "cells": [
  {
   "cell_type": "markdown",
   "id": "5610bbaf",
   "metadata": {},
   "source": [
    "# 1)Convert from lambda to def"
   ]
  },
  {
   "cell_type": "code",
   "execution_count": 23,
   "id": "612c2529",
   "metadata": {},
   "outputs": [
    {
     "data": {
      "text/plain": [
       "['The', 'Lion', 'King']"
      ]
     },
     "execution_count": 23,
     "metadata": {},
     "output_type": "execute_result"
    }
   ],
   "source": [
    "input_string = \"The Lion King\"\n",
    "lambda_func = lambda x: x.split(\" \")\n",
    "def func(x):\n",
    "    return x.split(\" \")\n",
    "func(input_string)\n",
    "lambda_func(input_string)"
   ]
  },
  {
   "cell_type": "markdown",
   "id": "c55393da",
   "metadata": {},
   "source": [
    "# 2)Recursion: Underscore-Hash Staircase"
   ]
  },
  {
   "cell_type": "code",
   "execution_count": 50,
   "id": "2c1f8ec2",
   "metadata": {},
   "outputs": [],
   "source": [
    "def underscore(n):\n",
    "    if n > 0:\n",
    "        for i in range(n):\n",
    "            for j in range (n):\n",
    "                if i+j == n-1:\n",
    "                    print(\"_\"*j+\"#\"*(n-j))\n",
    "    else:\n",
    "        n = abs(n)\n",
    "    for i in range(n):\n",
    "        for j in range (n):\n",
    "            if i+j == n-1:\n",
    "                print(\"_\"*(n-j)+\"#\"*(j))"
   ]
  },
  {
   "cell_type": "code",
   "execution_count": 51,
   "id": "0eef66cc",
   "metadata": {},
   "outputs": [
    {
     "name": "stdout",
     "output_type": "stream",
     "text": [
      "_________#\n",
      "________##\n",
      "_______###\n",
      "______####\n",
      "_____#####\n",
      "____######\n",
      "___#######\n",
      "__########\n",
      "_#########\n",
      "##########\n",
      "_#########\n",
      "__########\n",
      "___#######\n",
      "____######\n",
      "_____#####\n",
      "______####\n",
      "_______###\n",
      "________##\n",
      "_________#\n",
      "__________\n"
     ]
    }
   ],
   "source": [
    "underscore(10)"
   ]
  },
  {
   "cell_type": "markdown",
   "id": "8d23fa16",
   "metadata": {},
   "source": [
    "# 3)One Small Favor"
   ]
  },
  {
   "cell_type": "code",
   "execution_count": null,
   "id": "0ec51106",
   "metadata": {},
   "outputs": [],
   "source": []
  },
  {
   "cell_type": "markdown",
   "id": "cef137f7",
   "metadata": {},
   "source": [
    "# 4) Sum of Digits"
   ]
  },
  {
   "cell_type": "code",
   "execution_count": 27,
   "id": "806e50d3",
   "metadata": {},
   "outputs": [
    {
     "name": "stdout",
     "output_type": "stream",
     "text": [
      "123\n"
     ]
    }
   ],
   "source": [
    "def digits_sum(x,y):\n",
    "    out = []\n",
    "    for i in range(x,y+1):\n",
    "        if i < 10:\n",
    "            out.append(i)\n",
    "        else:\n",
    "            sum_of_digits = sum(int(digit) for digit in str(i))\n",
    "            out.append(sum_of_digits)\n",
    "    fin_out = sum(out)\n",
    "    print(fin_out)\n",
    "digits_sum(10,30)"
   ]
  },
  {
   "cell_type": "markdown",
   "id": "6c179a1c",
   "metadata": {},
   "source": [
    "# 5) How Many Days between Two Dates?"
   ]
  },
  {
   "cell_type": "code",
   "execution_count": 38,
   "id": "81b998ec",
   "metadata": {},
   "outputs": [
    {
     "name": "stdout",
     "output_type": "stream",
     "text": [
      "365365 days\n",
      " \n"
     ]
    }
   ],
   "source": [
    "class days_between_dates:\n",
    "    def __init__(self, d, m, y):\n",
    "        self.d = d\n",
    "        self.m = m\n",
    "        self.y = y\n",
    "mod = [31, 28, 31, 30, 31, 30,31, 31, 30, 31, 30, 31]\n",
    "def countLeapYears(d):\n",
    "    years = d.y\n",
    "    if (d.m <= 2):\n",
    "        years -= 1\n",
    "    return int(years / 4) - int(years / 100) + int(years / 400)\n",
    "def getDifference(dt1, dt2):\n",
    "    n1 = dt1.y * 365 + dt1.d\n",
    "    for i in range(0, dt1.m - 1):\n",
    "        n1 += mod[i]\n",
    "    n1 += countLeapYears(dt1) \n",
    "    n2 = dt2.y * 365 + dt2.d\n",
    "    for i in range(0, dt2.m - 1):\n",
    "        n2 += mod[i]\n",
    "    n2 += countLeapYears(dt2)\n",
    "    return (n2 - n1)\n",
    "days1= days_between_dates(3,10,1999)\n",
    "days2 = days_between_dates(2,2,3000)\n",
    "print(getDifference(days1,days2), \"days\")"
   ]
  },
  {
   "cell_type": "markdown",
   "id": "cbe216d5",
   "metadata": {},
   "source": [
    "# 6) Recursion: String Compression from Character Array"
   ]
  },
  {
   "cell_type": "code",
   "execution_count": 40,
   "id": "e72ad5bc",
   "metadata": {},
   "outputs": [
    {
     "name": "stdout",
     "output_type": "stream",
     "text": [
      "te5s3h2\n"
     ]
    }
   ],
   "source": [
    "num=0\n",
    "def Recursion(n):\n",
    "  global num\n",
    "  len_str = len(n)\n",
    "  comp_str = \"\"\n",
    "  while (num != len_str):\n",
    "    count = 1\n",
    "    while ((num < (len_str-1)) and (n[num] == n[num+1])):\n",
    "      count = count + 1\n",
    "      num = num + 1\n",
    " \n",
    "    if (count == 1):\n",
    "      comp_str = comp_str + str(n[num])\n",
    "    else:\n",
    "      comp_str = comp_str + str(n[num]) + str(count)\n",
    "\n",
    "    num = num + 1\n",
    "  return comp_str\n",
    " \n",
    "n = \"teeeeessshh\"\n",
    "print (Recursion(n))"
   ]
  },
  {
   "cell_type": "markdown",
   "id": "521e8972",
   "metadata": {},
   "source": [
    "# 7) Free Range"
   ]
  },
  {
   "cell_type": "code",
   "execution_count": 48,
   "id": "f567fa44",
   "metadata": {},
   "outputs": [
    {
     "ename": "NameError",
     "evalue": "name 'num_range' is not defined",
     "output_type": "error",
     "traceback": [
      "\u001b[0;31m---------------------------------------------------------------------------\u001b[0m",
      "\u001b[0;31mNameError\u001b[0m                                 Traceback (most recent call last)",
      "\u001b[0;32m/tmp/ipykernel_8203/1475076903.py\u001b[0m in \u001b[0;36m<module>\u001b[0;34m\u001b[0m\n\u001b[1;32m      5\u001b[0m     \u001b[0mprint\u001b[0m\u001b[0;34m(\u001b[0m\u001b[0;34m\"-----------------\"\u001b[0m\u001b[0;34m,\u001b[0m\u001b[0mb\u001b[0m\u001b[0;34m)\u001b[0m\u001b[0;34m\u001b[0m\u001b[0;34m\u001b[0m\u001b[0m\n\u001b[1;32m      6\u001b[0m     \u001b[0;32myield\u001b[0m \u001b[0mb\u001b[0m\u001b[0;34m[\u001b[0m\u001b[0;36m0\u001b[0m\u001b[0;34m]\u001b[0m\u001b[0;34m[\u001b[0m\u001b[0;36m1\u001b[0m\u001b[0;34m]\u001b[0m\u001b[0;34m,\u001b[0m \u001b[0mb\u001b[0m\u001b[0;34m[\u001b[0m\u001b[0;34m-\u001b[0m\u001b[0;36m1\u001b[0m\u001b[0;34m]\u001b[0m\u001b[0;34m[\u001b[0m\u001b[0;36m1\u001b[0m\u001b[0;34m]\u001b[0m\u001b[0;34m\u001b[0m\u001b[0;34m\u001b[0m\u001b[0m\n\u001b[0;32m----> 7\u001b[0;31m \u001b[0mprint\u001b[0m\u001b[0;34m(\u001b[0m\u001b[0mlist\u001b[0m\u001b[0;34m(\u001b[0m\u001b[0mnum_range\u001b[0m\u001b[0;34m(\u001b[0m\u001b[0;34m[\u001b[0m\u001b[0;36m1\u001b[0m\u001b[0;34m,\u001b[0m \u001b[0;36m3\u001b[0m\u001b[0;34m,\u001b[0m \u001b[0;36m4\u001b[0m\u001b[0;34m,\u001b[0m \u001b[0;36m5\u001b[0m\u001b[0;34m,\u001b[0m \u001b[0;36m6\u001b[0m\u001b[0;34m,\u001b[0m \u001b[0;36m7\u001b[0m\u001b[0;34m,\u001b[0m \u001b[0;36m8\u001b[0m\u001b[0;34m]\u001b[0m\u001b[0;34m)\u001b[0m\u001b[0;34m)\u001b[0m\u001b[0;34m)\u001b[0m\u001b[0;34m\u001b[0m\u001b[0;34m\u001b[0m\u001b[0m\n\u001b[0m",
      "\u001b[0;31mNameError\u001b[0m: name 'num_range' is not defined"
     ]
    }
   ],
   "source": [
    "import itertools\n",
    "def num_in_range(i):\n",
    "    for a, b in itertools.groupby(enumerate(i), lambda x: x[1] - x[0]):\n",
    "          b = list(b)\n",
    "    print(\"-----------------\",b)\n",
    "    yield b[0][1], b[-1][1]\n",
    "print(list(num_range([1, 3, 4, 5, 6, 7, 8])))"
   ]
  },
  {
   "cell_type": "markdown",
   "id": "55c1df67",
   "metadata": {},
   "source": [
    "# 8) Ones and Zeroes"
   ]
  },
  {
   "cell_type": "code",
   "execution_count": 39,
   "id": "6b42d856",
   "metadata": {},
   "outputs": [
    {
     "name": "stdout",
     "output_type": "stream",
     "text": [
      "True\n"
     ]
    }
   ],
   "source": [
    "def ones_and_zeros(n):\n",
    "    lst1 = []\n",
    "    lst2 = []\n",
    "    for i in n:\n",
    "        if int(i) == 0:\n",
    "            lst1.append(i)\n",
    "        elif int(i) == 1:\n",
    "            lst2.append(i)\n",
    "    if len(lst1) == len(lst2):\n",
    "        print (\"True\")\n",
    "    else:\n",
    "        print (\"False\")\n",
    " \n",
    "ones_and_zeros(\"111000\")"
   ]
  },
  {
   "cell_type": "code",
   "execution_count": null,
   "id": "e300e711",
   "metadata": {},
   "outputs": [],
   "source": []
  }
 ],
 "metadata": {
  "kernelspec": {
   "display_name": "Python 3 (ipykernel)",
   "language": "python",
   "name": "python3"
  },
  "language_info": {
   "codemirror_mode": {
    "name": "ipython",
    "version": 3
   },
   "file_extension": ".py",
   "mimetype": "text/x-python",
   "name": "python",
   "nbconvert_exporter": "python",
   "pygments_lexer": "ipython3",
   "version": "3.8.10"
  }
 },
 "nbformat": 4,
 "nbformat_minor": 5
}
