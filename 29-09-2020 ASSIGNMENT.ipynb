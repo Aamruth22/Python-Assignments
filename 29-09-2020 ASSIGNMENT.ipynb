{
 "cells": [
  {
   "cell_type": "code",
   "execution_count": 65,
   "id": "25f4210c",
   "metadata": {},
   "outputs": [
    {
     "name": "stdout",
     "output_type": "stream",
     "text": [
      "['bacon', 'parmesan', 'ham']\n",
      "['spinach', 'olives', 'mushroom']\n",
      "2\n",
      "1\n"
     ]
    }
   ],
   "source": [
    "#1\n",
    "class Pizza():\n",
    "    order_num = 0\n",
    "\n",
    "    def __init__(self, ingredients):\n",
    "        Pizza.order_num += 1\n",
    "        self.order_number = Pizza.order_num\n",
    "        self.ingredients = ingredients\n",
    "        self.pizza_type = \", \".join(ingredients)\n",
    "        self.ready_made_pizza = {\n",
    "            \"hawaiian\": [\"ham\", \"pineapple\"],\n",
    "            \"meat_festival\": [\"beef\", \"meatball\", \"bacon\"],\n",
    "            \"garden_feast\": [\"spinach\", \"olives\", \"mushroom\"]\n",
    "            }\n",
    "        for key in self.ready_made_pizza:\n",
    "            if self.ingredients == self.ready_made_pizza[key]:\n",
    "                self.pizza_type = key\n",
    "p1 = Pizza([\"bacon\", \"parmesan\", \"ham\"])\n",
    "p2 = Pizza([\"spinach\", \"olives\", \"mushroom\"])\n",
    "\n",
    "print(p1.ingredients)\n",
    "print(p2.ingredients)\n",
    "print(p2.order_number)\n",
    "print(p1.order_number)\n"
   ]
  },
  {
   "cell_type": "code",
   "execution_count": 48,
   "id": "73a6353a",
   "metadata": {},
   "outputs": [],
   "source": [
    "#2\n",
    "def deepest(l):\n",
    "    depths = []\n",
    "    for item in l:\n",
    "        if isinstance(item, list):\n",
    "            depths.append(deepest(item))\n",
    "    if len(depths) > 0:\n",
    "        return 1 + max(depths)\n",
    "    return 1\n"
   ]
  },
  {
   "cell_type": "code",
   "execution_count": 36,
   "id": "111ac146",
   "metadata": {},
   "outputs": [
    {
     "data": {
      "text/plain": [
       "2"
      ]
     },
     "execution_count": 36,
     "metadata": {},
     "output_type": "execute_result"
    }
   ],
   "source": [
    "deepest([1, [2, 3], 4, [5, 6]])"
   ]
  },
  {
   "cell_type": "code",
   "execution_count": 39,
   "id": "483faf3b",
   "metadata": {},
   "outputs": [
    {
     "name": "stdout",
     "output_type": "stream",
     "text": [
      "(11, 'perpetually')\n"
     ]
    }
   ],
   "source": [
    "#3\n",
    "def longest(a):\n",
    "    df=[]\n",
    "    cv=[]\n",
    "    dic={}\n",
    "    for i in a.split(\" \"):\n",
    "        df.append(len(i))\n",
    "        cv.append(i)\n",
    "    for j,k in zip(df,cv):\n",
    "        dic[j] = k\n",
    "    print(max(dic.items()))\n",
    "longest(\"I will and ever will be gratefully and perpetually loving you Tesh!\")"
   ]
  },
  {
   "cell_type": "code",
   "execution_count": 7,
   "id": "250297e0",
   "metadata": {},
   "outputs": [
    {
     "name": "stdout",
     "output_type": "stream",
     "text": [
      "Enter the string aamryth\n",
      "a m r y t h\n"
     ]
    }
   ],
   "source": [
    "#4\n",
    "a=input('Enter the string ')\n",
    "lst=[]\n",
    "str_1=\" \"\n",
    "for i in a:\n",
    "    if i not in lst:\n",
    "        lst.append(i)\n",
    "res=str_1.join(lst)\n",
    "print(res)"
   ]
  },
  {
   "cell_type": "code",
   "execution_count": 3,
   "id": "6135523c",
   "metadata": {},
   "outputs": [
    {
     "name": "stdout",
     "output_type": "stream",
     "text": [
      "Length of the deck of cards | Perfect shuffles needed to obtain the same deck back\n",
      "8 | 3\n",
      "14 | 12\n",
      "52 | 8\n"
     ]
    }
   ],
   "source": [
    "#5\n",
    "import doctest\n",
    "import random\n",
    " \n",
    " \n",
    "def flatten(lst):\n",
    "    \"\"\"\n",
    "    >>> flatten([[3,2],[1,2]])\n",
    "    [3, 2, 1, 2]\n",
    "    \"\"\"\n",
    "    return [i for sublst in lst for i in sublst]\n",
    " \n",
    "def magic_shuffle(deck):\n",
    "    \"\"\"\n",
    "    >>> magic_shuffle([1,2,3,4])\n",
    "    [1, 3, 2, 4]\n",
    "    \"\"\"\n",
    "    half = len(deck) // 2 \n",
    "    return flatten(zip(deck[:half], deck[half:]))\n",
    " \n",
    "def after_how_many_is_equal(shuffle_type,start,end):\n",
    "    \"\"\"\n",
    "    >>> after_how_many_is_equal(magic_shuffle,[1,2,3,4],[1,2,3,4])\n",
    "    2\n",
    "    \"\"\"\n",
    " \n",
    "    start = shuffle_type(start)\n",
    "    counter = 1\n",
    "    while start != end:\n",
    "        start = shuffle_type(start)\n",
    "        counter += 1\n",
    "    return counter\n",
    " \n",
    "def main():\n",
    "    doctest.testmod()\n",
    " \n",
    "    print(\"Length of the deck of cards | Perfect shuffles needed to obtain the same deck back\")\n",
    "    for length in (8, 14, 52):\n",
    "        deck = list(range(length))\n",
    "        shuffles_needed = after_how_many_is_equal(magic_shuffle,deck,deck)\n",
    "        print(\"{} | {}\".format(length,shuffles_needed))\n",
    " \n",
    " \n",
    "if __name__ == \"__main__\":\n",
    "    main()\n",
    " "
   ]
  },
  {
   "cell_type": "code",
   "execution_count": 7,
   "id": "2ff4100e",
   "metadata": {},
   "outputs": [
    {
     "name": "stdout",
     "output_type": "stream",
     "text": [
      "aaabccddd\n",
      "abd\n"
     ]
    }
   ],
   "source": [
    "#6\n",
    "import re\n",
    "\n",
    "def superReducedString(s):\n",
    "    while re.search(r\"(\\w)\\1\", s):\n",
    "        s = re.sub(r\"(\\w)\\1\", \"\", s)\n",
    "    return s or \"Empty String\"\n",
    "print(superReducedString(input()))"
   ]
  },
  {
   "cell_type": "code",
   "execution_count": 1,
   "id": "87457c1b",
   "metadata": {},
   "outputs": [
    {
     "name": "stdout",
     "output_type": "stream",
     "text": [
      "['2', '30', '10']\n"
     ]
    }
   ],
   "source": [
    "#7\n",
    "def time_adjust(now,hrs,mins,sec):\n",
    "  current = [int(i) for i in now.split(\":\")]\n",
    "  values = [hrs,mins,sec]\n",
    "  limit = (24,60,60)\n",
    "  for i in range(0,3):\n",
    "    current[i] = current[i] + values[i]\n",
    "    if current[i]>limit[i]:\n",
    "      current[i]-=limit[i]\n",
    "    current[i] = str(current[i])\n",
    "  return(current)\n",
    "       \n",
    "print(time_adjust(\"01:00:00\", 1, 30, 10))"
   ]
  },
  {
   "cell_type": "code",
   "execution_count": 4,
   "id": "1e38416a",
   "metadata": {},
   "outputs": [
    {
     "name": "stdout",
     "output_type": "stream",
     "text": [
      "Original dictionary is : \n",
      "{'Mubashir': 'Name', '31': 'Age', 'Male': 'Sex', 'Pilot': 'Job', 'Matt': 'Name', '40': 'Age', 'Programmer': 'Job'}\n",
      "\n",
      "Dictionary after swapping is : \n",
      "keys: values\n",
      "Name  : ['Mubashir', 'Matt']\n",
      "Age  : ['31', '40']\n",
      "Sex  : ['Male']\n",
      "Job  : ['Pilot', 'Programmer']\n"
     ]
    }
   ],
   "source": [
    "#8\n",
    "old_dict = {\n",
    "\"Mubashir\": \"Name\",\n",
    "\"31\": \"Age\",\n",
    "\"Male\": \"Sex\",\n",
    "\"Pilot\": \"Job\",\n",
    "\"Matt\": \"Name\",\n",
    "\"40\": \"Age\",\n",
    "\"Programmer\": \"Job\"\n",
    "}\n",
    "\n",
    "\n",
    "\n",
    "print (\"Original dictionary is : \")\n",
    "print(old_dict)\n",
    "\n",
    "print()\n",
    "new_dict = {}\n",
    "for key, value in old_dict.items():\n",
    "    if value in new_dict:\n",
    "        new_dict[value].append(key)\n",
    "    else:\n",
    "        new_dict[value]=[key]\n",
    "\n",
    "\n",
    "\n",
    "print (\"Dictionary after swapping is : \")\n",
    "print(\"keys: values\")\n",
    "for i in new_dict:\n",
    "    print(i, \" :\", new_dict[i])"
   ]
  },
  {
   "cell_type": "code",
   "execution_count": null,
   "id": "73207d40",
   "metadata": {},
   "outputs": [],
   "source": []
  }
 ],
 "metadata": {
  "kernelspec": {
   "display_name": "Python 3 (ipykernel)",
   "language": "python",
   "name": "python3"
  },
  "language_info": {
   "codemirror_mode": {
    "name": "ipython",
    "version": 3
   },
   "file_extension": ".py",
   "mimetype": "text/x-python",
   "name": "python",
   "nbconvert_exporter": "python",
   "pygments_lexer": "ipython3",
   "version": "3.8.10"
  }
 },
 "nbformat": 4,
 "nbformat_minor": 5
}
