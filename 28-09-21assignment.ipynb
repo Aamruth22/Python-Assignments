{
 "cells": [
  {
   "cell_type": "code",
   "execution_count": 2,
   "id": "fdd3f67c",
   "metadata": {},
   "outputs": [
    {
     "name": "stdout",
     "output_type": "stream",
     "text": [
      "Enter the Number5\n",
      "[]\n",
      "[]\n",
      "0\n",
      "None\n"
     ]
    }
   ],
   "source": [
    "#1\n",
    "def number(n):\n",
    "    num=int(n/3)\n",
    "    x=[]\n",
    "    div=[]\n",
    "    for i in range(1,num):\n",
    "        b=2**i\n",
    "        x.append(b)\n",
    "        if b > num :\n",
    "            break\n",
    "    print(x)\n",
    "\n",
    "    for j in x:\n",
    "        if n%j==0:\n",
    "            div.append(j)\n",
    "    print(div)\n",
    "    print(len(div))\n",
    "print(number(n=int(input('Enter the Number'))))"
   ]
  },
  {
   "cell_type": "code",
   "execution_count": 4,
   "id": "b9dbf359",
   "metadata": {},
   "outputs": [
    {
     "name": "stdout",
     "output_type": "stream",
     "text": [
      "ENTER THE NUMBER 5\n",
      "Enter the number 4\n",
      "aabababab\n"
     ]
    }
   ],
   "source": [
    "#2\n",
    "class Solution:\n",
    "\n",
    "    def strWithout3a3b(self, A, B):\n",
    "        ans = []\n",
    " \n",
    "        while A or B:\n",
    "            if len(ans) >= 2 and ans[-1] == ans[-2]:\n",
    "                writeA = ans[-1] == 'b'\n",
    "            else:\n",
    "                writeA = A >= B\n",
    " \n",
    "            if writeA:\n",
    "                A -= 1\n",
    "                ans.append('a')\n",
    "            else:\n",
    "                B -= 1\n",
    "                ans.append('b')\n",
    " \n",
    "        return \"\".join(ans)\n",
    "S1 = Solution()\n",
    "print(S1.strWithout3a3b(A=int(input(\"ENTER THE NUMBER \")),B=int(input(\"Enter the number \"))))"
   ]
  },
  {
   "cell_type": "code",
   "execution_count": 5,
   "id": "3962edcf",
   "metadata": {},
   "outputs": [
    {
     "name": "stdout",
     "output_type": "stream",
     "text": [
      "enter your password:Aamruth@22\n",
      "Valid Password\n"
     ]
    }
   ],
   "source": [
    "#3\n",
    "import re\n",
    "\n",
    "password =input(\"enter your password:\")\n",
    "\n",
    "count = 0\n",
    "\n",
    "while True:\n",
    "    if (len(password)<8):\n",
    "        count = -1\n",
    "        break\n",
    "\n",
    "    elif not re.search(\"[a-z]\", password):\n",
    "        count = -1\n",
    "        break\n",
    "\n",
    "    elif not re.search(\"[A-Z]\", password):\n",
    "        count = -1\n",
    "        break\n",
    "\n",
    "    elif not re.search(\"[0-9]\", password):\n",
    "        count = -1\n",
    "        break\n",
    "\n",
    "    elif not re.search(\"[*&#@$]\", password):\n",
    "        count = -1\n",
    "        break\n",
    "\n",
    "    elif re.search(\"\\s\", password):\n",
    "        count = -1\n",
    "        break\n",
    "\n",
    "    else:\n",
    "\n",
    "        count = 0\n",
    "\n",
    "        print(\"Valid Password\")\n",
    "\n",
    "        break         \n",
    "\n",
    "if count ==-1:\n",
    "    print(\"Not a Valid Password\")\n",
    "\n"
   ]
  },
  {
   "cell_type": "code",
   "execution_count": 6,
   "id": "fa0701a4",
   "metadata": {},
   "outputs": [
    {
     "name": "stdout",
     "output_type": "stream",
     "text": [
      "<class 'list'>\n",
      "<class 'list'>\n",
      "cannot see\n"
     ]
    }
   ],
   "source": [
    "#4\n",
    "def list_new(a):\n",
    "    list1 = []\n",
    "    import numpy as np\n",
    "    print(type(a))\n",
    "    new = np.array(a)\n",
    "    x_tanspos = np.transpose(new)\n",
    "    list_x_tanspos = x_tanspos.tolist()\n",
    "    print(type(list_x_tanspos))\n",
    "    if list_x_tanspos == sorted(list_x_tanspos):\n",
    "        print(\"can see\")\n",
    "    else:\n",
    "        print(\"cannot see\")\n",
    "\n",
    "list_new([[1, 2, 3, 2, 1, 1],\n",
    "[2, 4, 4, 3, 2, 2],\n",
    "[5, 5, 5, 10, 4, 4],\n",
    "[6, 6, 7, 6, 5, 5]])"
   ]
  },
  {
   "cell_type": "code",
   "execution_count": 7,
   "id": "d232ed2c",
   "metadata": {},
   "outputs": [
    {
     "name": "stdout",
     "output_type": "stream",
     "text": [
      "[700, 80, 9]\n"
     ]
    }
   ],
   "source": [
    "#5\n",
    "def num_split(num):\n",
    "    num = str(num)\n",
    "    \n",
    "    num = [c for c in num]\n",
    "    num = num[::-1]\n",
    "    num_lis = []\n",
    "    f = 1\n",
    "    for i in range(len(num)):\n",
    "        num_lis.append(int(num[i])*f)\n",
    "        f *= 10\n",
    "    print(num_lis[::-1])\n",
    "\n",
    "\n",
    "num_split(789)\n",
    "        "
   ]
  },
  {
   "cell_type": "code",
   "execution_count": 20,
   "id": "29ae7b18",
   "metadata": {},
   "outputs": [
    {
     "name": "stdout",
     "output_type": "stream",
     "text": [
      "Enter the String-->  add\n",
      "Enter the String-->  egg\n"
     ]
    },
    {
     "data": {
      "text/plain": [
       "False"
      ]
     },
     "execution_count": 20,
     "metadata": {},
     "output_type": "execute_result"
    }
   ],
   "source": [
    "#6\n",
    "def isomorphic(a,b):\n",
    "    iso_s = {}\n",
    "    iso_t = {}\n",
    "    for i, value in enumerate(a):\n",
    "        iso_s[value]= iso_s.get(value,[i]) \n",
    "    for j, value in enumerate(b):\n",
    "        iso_t[value]= iso_t.get(value,[]) + [j]\n",
    "    if sorted(iso_s.values()) == sorted(iso_t.values()):\n",
    "        return True\n",
    "    else:\n",
    "        return False\n",
    "isomorphic(a=input(\"Enter the String-->  \"),b=input(\"Enter the String-->  \"))"
   ]
  },
  {
   "cell_type": "code",
   "execution_count": 18,
   "id": "c4821722",
   "metadata": {},
   "outputs": [
    {
     "data": {
      "text/plain": [
       "[[0], [1, 2]]"
      ]
     },
     "execution_count": 18,
     "metadata": {},
     "output_type": "execute_result"
    }
   ],
   "source": [
    "sorted(iso_s.values())"
   ]
  },
  {
   "cell_type": "code",
   "execution_count": null,
   "id": "0eba0e24",
   "metadata": {},
   "outputs": [],
   "source": []
  },
  {
   "cell_type": "code",
   "execution_count": 9,
   "id": "38d72c89",
   "metadata": {},
   "outputs": [
    {
     "name": "stdout",
     "output_type": "stream",
     "text": [
      "['01 Jan 2007', '10 Jul 2016', '2 Dec 2017', '11 Jun 2018', '23 Jun 2018', '01 Jan 2019']\n",
      "23 Jun 2018\n",
      "2 Dec 2017\n",
      "11 Jun 2018\n",
      "01 Jan 2019\n",
      "10 Jul 2016\n",
      "01 Jan 2007\n"
     ]
    }
   ],
   "source": [
    "#7\n",
    "from datetime import datetime\n",
    "\n",
    "def datenew(dates):\n",
    "    dates = [\"23 Jun 2018\", \"2 Dec 2017\", \"11 Jun 2018\", \"01 Jan 2019\", \"10 Jul 2016\", \"01 Jan 2007\"]\n",
    "\n",
    "    for i in range(len(dates)):\n",
    "        print(dates[i])\n",
    "\n",
    "if __name__ == '__main__':\n",
    "    dates = [\"23 Jun 2018\", \"2 Dec 2017\", \"11 Jun 2018\",\"01 Jan 2019\", \"10 Jul 2016\", \"01 Jan 2007\"]\n",
    "    dates.sort(key = lambda date:datetime.strptime(date, \"%d %b %Y\"))\n",
    "\n",
    "    print(dates)\n",
    "\n",
    "datenew(dates)"
   ]
  },
  {
   "cell_type": "code",
   "execution_count": 10,
   "id": "5906839e",
   "metadata": {},
   "outputs": [
    {
     "name": "stdout",
     "output_type": "stream",
     "text": [
      "Enter the Number32\n",
      "[2, 4, 8, 16]\n",
      "[2]\n",
      "1\n",
      "[2, 4]\n",
      "2\n",
      "[2, 4, 8]\n",
      "3\n",
      "[2, 4, 8, 16]\n",
      "4\n",
      "None\n"
     ]
    }
   ],
   "source": [
    "#8\n",
    "def number(n):\n",
    "    num=int(n/3)\n",
    "    x=[]\n",
    "    div=[]\n",
    "    for i in range(1,num):\n",
    "        b=2**i\n",
    "        x.append(b)\n",
    "        if b > num :\n",
    "            break\n",
    "    print(x)\n",
    "    for j in x:\n",
    "        if n%j==0:\n",
    "            div.append(j)\n",
    "            print(div)\n",
    "            print(len(div))\n",
    "print(number(n=int(input('Enter the Number'))))"
   ]
  },
  {
   "cell_type": "code",
   "execution_count": null,
   "id": "93337530",
   "metadata": {},
   "outputs": [],
   "source": []
  }
 ],
 "metadata": {
  "kernelspec": {
   "display_name": "Python 3 (ipykernel)",
   "language": "python",
   "name": "python3"
  },
  "language_info": {
   "codemirror_mode": {
    "name": "ipython",
    "version": 3
   },
   "file_extension": ".py",
   "mimetype": "text/x-python",
   "name": "python",
   "nbconvert_exporter": "python",
   "pygments_lexer": "ipython3",
   "version": "3.8.10"
  }
 },
 "nbformat": 4,
 "nbformat_minor": 5
}
