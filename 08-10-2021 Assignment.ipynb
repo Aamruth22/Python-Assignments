{
 "cells": [
  {
   "cell_type": "markdown",
   "id": "65b55de0",
   "metadata": {},
   "source": [
    "# 6)Validate Subsequences"
   ]
  },
  {
   "cell_type": "code",
   "execution_count": 7,
   "id": "8d601b3a",
   "metadata": {},
   "outputs": [],
   "source": [
    "def isValidSubsequence(array, sequence):\n",
    "    arr_index = 0\n",
    "    seq_index = 0\n",
    "\n",
    "    while arr_index < len(array) and seq_index < len(sequence):\n",
    "        if array[arr_index] == sequence[seq_index]:\n",
    "            arr_index += 1\n",
    "            seq_index += 1\n",
    "        else: \n",
    "            arr_index += 1\n",
    "    return seq_index == len(sequence)"
   ]
  },
  {
   "cell_type": "code",
   "execution_count": 8,
   "id": "5f22f068",
   "metadata": {},
   "outputs": [
    {
     "data": {
      "text/plain": [
       "False"
      ]
     },
     "execution_count": 8,
     "metadata": {},
     "output_type": "execute_result"
    }
   ],
   "source": [
    "isValidSubsequence([1, 1, 6, 1],[1, 1, 1, 6])"
   ]
  },
  {
   "cell_type": "code",
   "execution_count": 9,
   "id": "594095eb",
   "metadata": {},
   "outputs": [
    {
     "data": {
      "text/plain": [
       "True"
      ]
     },
     "execution_count": 9,
     "metadata": {},
     "output_type": "execute_result"
    }
   ],
   "source": [
    "isValidSubsequence([5, 1, 22, 25, 6, -1, 8, 10], [22, 25, 6])"
   ]
  },
  {
   "cell_type": "code",
   "execution_count": 10,
   "id": "4ee16dd1",
   "metadata": {},
   "outputs": [
    {
     "data": {
      "text/plain": [
       "True"
      ]
     },
     "execution_count": 10,
     "metadata": {},
     "output_type": "execute_result"
    }
   ],
   "source": [
    "isValidSubsequence([1, 2, 3, 4], [2, 4])"
   ]
  },
  {
   "cell_type": "markdown",
   "id": "e02ff61a",
   "metadata": {},
   "source": [
    "# 4)Next Largest Number"
   ]
  },
  {
   "cell_type": "code",
   "execution_count": 17,
   "id": "b39eb830",
   "metadata": {},
   "outputs": [],
   "source": [
    "def next_number(n):\n",
    "    if str(n) == ''.join(sorted(str(n))[::-1]):\n",
    "        return n\n",
    "    a = n\n",
    "    while True:\n",
    "        a += 1\n",
    "        if sorted(str(a)) == sorted(str(n)):\n",
    "            return a"
   ]
  },
  {
   "cell_type": "code",
   "execution_count": 18,
   "id": "58f569e6",
   "metadata": {},
   "outputs": [
    {
     "data": {
      "text/plain": [
       "91"
      ]
     },
     "execution_count": 18,
     "metadata": {},
     "output_type": "execute_result"
    }
   ],
   "source": [
    "next_number(19)"
   ]
  },
  {
   "cell_type": "code",
   "execution_count": 19,
   "id": "4272d228",
   "metadata": {},
   "outputs": [
    {
     "data": {
      "text/plain": [
       "4235"
      ]
     },
     "execution_count": 19,
     "metadata": {},
     "output_type": "execute_result"
    }
   ],
   "source": [
    "next_number(3542)"
   ]
  },
  {
   "cell_type": "code",
   "execution_count": 20,
   "id": "e79223bd",
   "metadata": {},
   "outputs": [
    {
     "data": {
      "text/plain": [
       "5432"
      ]
     },
     "execution_count": 20,
     "metadata": {},
     "output_type": "execute_result"
    }
   ],
   "source": [
    "next_number(5432)"
   ]
  },
  {
   "cell_type": "code",
   "execution_count": 21,
   "id": "67354f0d",
   "metadata": {},
   "outputs": [
    {
     "data": {
      "text/plain": [
       "59348"
      ]
     },
     "execution_count": 21,
     "metadata": {},
     "output_type": "execute_result"
    }
   ],
   "source": [
    "next_number(58943)"
   ]
  },
  {
   "cell_type": "markdown",
   "id": "e0149f42",
   "metadata": {},
   "source": [
    "# 2) Recursion: Reversible Inclusive List Ranges\n"
   ]
  },
  {
   "cell_type": "code",
   "execution_count": 1,
   "id": "9708410d",
   "metadata": {},
   "outputs": [],
   "source": [
    "def reversible_inclusive_list(start, end) :   \n",
    "    if start > end: \n",
    "        n=-1\n",
    "    else: \n",
    "        n =1 \n",
    "    return [i for i in range(start, end+n,n)]"
   ]
  },
  {
   "cell_type": "code",
   "execution_count": 2,
   "id": "971740d8",
   "metadata": {},
   "outputs": [
    {
     "data": {
      "text/plain": [
       "[1, 2, 3, 4, 5]"
      ]
     },
     "execution_count": 2,
     "metadata": {},
     "output_type": "execute_result"
    }
   ],
   "source": [
    "reversible_inclusive_list(1, 5)"
   ]
  },
  {
   "cell_type": "code",
   "execution_count": 3,
   "id": "896eb166",
   "metadata": {},
   "outputs": [
    {
     "data": {
      "text/plain": [
       "[2, 3, 4, 5, 6, 7, 8]"
      ]
     },
     "execution_count": 3,
     "metadata": {},
     "output_type": "execute_result"
    }
   ],
   "source": [
    "reversible_inclusive_list(2, 8)"
   ]
  },
  {
   "cell_type": "code",
   "execution_count": 4,
   "id": "93f785cf",
   "metadata": {},
   "outputs": [
    {
     "data": {
      "text/plain": [
       "[10, 11, 12, 13, 14, 15, 16, 17, 18, 19, 20]"
      ]
     },
     "execution_count": 4,
     "metadata": {},
     "output_type": "execute_result"
    }
   ],
   "source": [
    "reversible_inclusive_list(10, 20)"
   ]
  },
  {
   "cell_type": "code",
   "execution_count": 31,
   "id": "a27e1cb5",
   "metadata": {},
   "outputs": [
    {
     "data": {
      "text/plain": [
       "[24, 23, 22, 21, 20, 19, 18, 17]"
      ]
     },
     "execution_count": 31,
     "metadata": {},
     "output_type": "execute_result"
    }
   ],
   "source": [
    "reversible_inclusive_list(24, 17) "
   ]
  },
  {
   "cell_type": "markdown",
   "id": "2607540e",
   "metadata": {},
   "source": [
    "# 1) Vowel Skewers"
   ]
  },
  {
   "cell_type": "code",
   "execution_count": 32,
   "id": "228eaad1",
   "metadata": {},
   "outputs": [],
   "source": [
    "constonant = ['B','C','D','F','G','H','J','K','L','M','N','P','Q','R','S','T','V','W','X','Y','Z']\n",
    "def is_authentic_skewer(s):\n",
    "    if s[0] not in constonant or s[-1] not in constonant:\n",
    "        return False\n",
    "    d = 0\n",
    "    for i in range(1, len(s)):\n",
    "        if s[i].isalpha():\n",
    "            d = i - 1\n",
    "            break\n",
    "    if d == 0:\n",
    "        return False\n",
    "    s = s.split('-' * d)\n",
    "    for i in range(len(s) - 1):\n",
    "        if (s[i][0] == '-' or s[i+1][0] == '-') or (s[i] in constonant and s[i+1] in constonant):\n",
    "            return False\n",
    "    return True"
   ]
  },
  {
   "cell_type": "code",
   "execution_count": 33,
   "id": "57ac201a",
   "metadata": {},
   "outputs": [
    {
     "data": {
      "text/plain": [
       "True"
      ]
     },
     "execution_count": 33,
     "metadata": {},
     "output_type": "execute_result"
    }
   ],
   "source": [
    "is_authentic_skewer(\"B--A--N--A--N--A--S\")"
   ]
  },
  {
   "cell_type": "code",
   "execution_count": 34,
   "id": "e69366bb",
   "metadata": {},
   "outputs": [
    {
     "data": {
      "text/plain": [
       "False"
      ]
     },
     "execution_count": 34,
     "metadata": {},
     "output_type": "execute_result"
    }
   ],
   "source": [
    "is_authentic_skewer(\"A--X--E\")"
   ]
  },
  {
   "cell_type": "code",
   "execution_count": 35,
   "id": "6bd51e00",
   "metadata": {},
   "outputs": [
    {
     "data": {
      "text/plain": [
       "False"
      ]
     },
     "execution_count": 35,
     "metadata": {},
     "output_type": "execute_result"
    }
   ],
   "source": [
    "is_authentic_skewer(\"C-L-A-P\")"
   ]
  },
  {
   "cell_type": "code",
   "execution_count": 36,
   "id": "036ddc8e",
   "metadata": {},
   "outputs": [
    {
     "data": {
      "text/plain": [
       "False"
      ]
     },
     "execution_count": 36,
     "metadata": {},
     "output_type": "execute_result"
    }
   ],
   "source": [
    "is_authentic_skewer(\"M--A---T-E-S\")"
   ]
  },
  {
   "cell_type": "markdown",
   "id": "1e0cc383",
   "metadata": {},
   "source": [
    "# 3)Recursion: Flatten the Curves\n"
   ]
  },
  {
   "cell_type": "code",
   "execution_count": 44,
   "id": "6621e691",
   "metadata": {},
   "outputs": [],
   "source": [
    "def flatten(n):\n",
    "    if n == []:\n",
    "        return n\n",
    "    if isinstance(n[0], list):\n",
    "        return flatten(n[0]) + flatten(n[1:])\n",
    "    return n[:1] + flatten(n[1:])"
   ]
  },
  {
   "cell_type": "code",
   "execution_count": 45,
   "id": "e3309661",
   "metadata": {},
   "outputs": [
    {
     "data": {
      "text/plain": [
       "['direction', 372, 'one', 'Era', 'Sruth', 3337, 'First']"
      ]
     },
     "execution_count": 45,
     "metadata": {},
     "output_type": "execute_result"
    }
   ],
   "source": [
    "flatten([[[[[[\"direction\"], [372], [\"one\"], [[[[[[\"Era\"]]]], \"Sruth\",\n",
    "3337]]], \"First\"]]]])"
   ]
  },
  {
   "cell_type": "code",
   "execution_count": 46,
   "id": "147f2968",
   "metadata": {},
   "outputs": [
    {
     "data": {
      "text/plain": [
       "[4666, 5394, 466, 'Saskia', 'DXTD', 'Lexi']"
      ]
     },
     "execution_count": 46,
     "metadata": {},
     "output_type": "execute_result"
    }
   ],
   "source": [
    "flatten([[4666], [5394], [466], [[[\"Saskia\", [[[[[\"DXTD\"]], \"Lexi\"]]]]]]])"
   ]
  },
  {
   "cell_type": "code",
   "execution_count": 47,
   "id": "d1b9ce70",
   "metadata": {},
   "outputs": [
    {
     "data": {
      "text/plain": [
       "[696, 'friend', 'power', 'Marcus', 'philus']"
      ]
     },
     "execution_count": 47,
     "metadata": {},
     "output_type": "execute_result"
    }
   ],
   "source": [
    "flatten([[696], [\"friend\"], [\"power\"], [[[[\"Marcus\"]]]], [\"philus\"]])"
   ]
  },
  {
   "cell_type": "code",
   "execution_count": 48,
   "id": "888bdcf3",
   "metadata": {},
   "outputs": [
    {
     "data": {
      "text/plain": [
       "['deep', 'ocean', 'Marge', 'rase', 876]"
      ]
     },
     "execution_count": 48,
     "metadata": {},
     "output_type": "execute_result"
    }
   ],
   "source": [
    "flatten([[[\"deep\"], [[[\"ocean\"]]], [[\"Marge\"]], [\"rase\", 876]]])"
   ]
  },
  {
   "cell_type": "code",
   "execution_count": null,
   "id": "f7147003",
   "metadata": {},
   "outputs": [],
   "source": []
  }
 ],
 "metadata": {
  "kernelspec": {
   "display_name": "Python 3 (ipykernel)",
   "language": "python",
   "name": "python3"
  },
  "language_info": {
   "codemirror_mode": {
    "name": "ipython",
    "version": 3
   },
   "file_extension": ".py",
   "mimetype": "text/x-python",
   "name": "python",
   "nbconvert_exporter": "python",
   "pygments_lexer": "ipython3",
   "version": "3.8.10"
  }
 },
 "nbformat": 4,
 "nbformat_minor": 5
}
