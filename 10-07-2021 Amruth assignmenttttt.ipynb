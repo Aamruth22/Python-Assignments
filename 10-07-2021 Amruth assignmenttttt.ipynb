{
 "cells": [
  {
   "cell_type": "markdown",
   "id": "3b0c35c2",
   "metadata": {},
   "source": [
    "# Difference Between For and While loop "
   ]
  },
  {
   "cell_type": "code",
   "execution_count": 22,
   "id": "0bf712e7",
   "metadata": {},
   "outputs": [
    {
     "name": "stdout",
     "output_type": "stream",
     "text": [
      "1\n",
      "2\n",
      "3\n",
      "4\n",
      "5\n",
      "6\n",
      "7\n",
      "8\n",
      "9\n"
     ]
    }
   ],
   "source": [
    "for i in range(1,10):\n",
    "    print (i)"
   ]
  },
  {
   "cell_type": "code",
   "execution_count": 3,
   "id": "3e3e2577",
   "metadata": {},
   "outputs": [
    {
     "name": "stdout",
     "output_type": "stream",
     "text": [
      "0\n",
      "1\n",
      "2\n",
      "3\n",
      "4\n",
      "5\n",
      "6\n",
      "7\n",
      "8\n",
      "9\n",
      "10\n"
     ]
    }
   ],
   "source": [
    "i = 0\n",
    "while i <= 10:\n",
    "    print (i)\n",
    "    i = i + 1"
   ]
  },
  {
   "cell_type": "markdown",
   "id": "64296a05",
   "metadata": {},
   "source": [
    "# A program to differentiate continue and break statement"
   ]
  },
  {
   "cell_type": "code",
   "execution_count": 31,
   "id": "5ba8cf97",
   "metadata": {},
   "outputs": [
    {
     "name": "stdout",
     "output_type": "stream",
     "text": [
      "Vijay\n",
      "Kavin\n",
      "Yuga\n"
     ]
    }
   ],
   "source": [
    "students = [\"Vijay\", \"Kavin\", \"Yuga\", \"Deepa\"]\n",
    "for student in range(0, len(students)):\n",
    "    if student == 3:\n",
    "        break\n",
    "    else:\n",
    "        print(students[student])"
   ]
  },
  {
   "cell_type": "code",
   "execution_count": 24,
   "id": "7a00182a",
   "metadata": {},
   "outputs": [
    {
     "name": "stdout",
     "output_type": "stream",
     "text": [
      "Vijay\n",
      "Kavin\n",
      "Deepa\n"
     ]
    }
   ],
   "source": [
    "students = [\"Vijay\", \"Kavin\", \"Yuga\", \"Deepa\"]\n",
    "for student in range(0, len(students)):\n",
    "    if student == 2:\n",
    "        continue\n",
    "    else:\n",
    "        print(students[student])"
   ]
  },
  {
   "cell_type": "markdown",
   "id": "0f2aeed6",
   "metadata": {},
   "source": [
    "# OOPS"
   ]
  },
  {
   "cell_type": "markdown",
   "id": "ab372c12",
   "metadata": {},
   "source": [
    "# Class"
   ]
  },
  {
   "cell_type": "code",
   "execution_count": 26,
   "id": "c86738f3",
   "metadata": {},
   "outputs": [],
   "source": [
    "class Bike:\n",
    "    pass"
   ]
  },
  {
   "cell_type": "code",
   "execution_count": 32,
   "id": "490b62d6",
   "metadata": {},
   "outputs": [],
   "source": [
    "class Bike:\n",
    "    def __init__(self, name, color):\n",
    "        self.name = name\n",
    "        self.color = color"
   ]
  },
  {
   "cell_type": "markdown",
   "id": "34581a99",
   "metadata": {},
   "source": [
    "# Object"
   ]
  },
  {
   "cell_type": "code",
   "execution_count": 30,
   "id": "c54139c6",
   "metadata": {},
   "outputs": [],
   "source": [
    "obj = Bike()"
   ]
  },
  {
   "cell_type": "code",
   "execution_count": 31,
   "id": "67e5e60f",
   "metadata": {},
   "outputs": [
    {
     "name": "stdout",
     "output_type": "stream",
     "text": [
      "<__main__.Bike object at 0x7fc21c7ad310>\n"
     ]
    }
   ],
   "source": [
    "print(obj)"
   ]
  },
  {
   "cell_type": "markdown",
   "id": "708f2dab",
   "metadata": {},
   "source": [
    "# Method"
   ]
  },
  {
   "cell_type": "code",
   "execution_count": 33,
   "id": "20d17d05",
   "metadata": {},
   "outputs": [],
   "source": [
    "class Bike:   \n",
    "    bike_type = \"Sport bike\" \n",
    "\n",
    "    def __init__(self, name, mileage):\n",
    "        self.name = name \n",
    "        self.mileage = mileage \n",
    "\n",
    "    def description(self):                 \n",
    "        return f\"The {self.name} bike gives the mileage of {self.mileage}km/l\"\n",
    "\n",
    "    def max_speed(self, speed):\n",
    "        return f\"The {self.name} runs at the maximum speed of {speed}km/hr\""
   ]
  },
  {
   "cell_type": "code",
   "execution_count": 34,
   "id": "db9c20e9",
   "metadata": {},
   "outputs": [
    {
     "name": "stdout",
     "output_type": "stream",
     "text": [
      "The BMW S 1000 RR bike gives the mileage of 15.6km/l\n",
      "The BMW S 1000 RR runs at the maximum speed of 303km/hr\n"
     ]
    }
   ],
   "source": [
    "obj = Bike(\"BMW S 1000 RR\",15.6)\n",
    "print(obj.description())\n",
    "print(obj.max_speed(303))"
   ]
  },
  {
   "cell_type": "markdown",
   "id": "29d5099d",
   "metadata": {},
   "source": [
    "# Inheritance"
   ]
  },
  {
   "cell_type": "code",
   "execution_count": 10,
   "id": "57606c7a",
   "metadata": {},
   "outputs": [],
   "source": [
    "class Bike:          \n",
    "\n",
    "    def __init__(self, name, mileage):\n",
    "        self.name = name \n",
    "        self.mileage = mileage \n",
    "\n",
    "    def description(self):                \n",
    "        return f\"The {self.name} Bike gives the mileage of {self.mileage}km/l\"\n",
    "\n",
    "class Ducati(Bike):\n",
    "    pass\n",
    "    \n",
    "class Kawasaki(Bike):     \n",
    "    def audi_desc(self):\n",
    "        return \"This is the description method of class Kawasaki.\""
   ]
  },
  {
   "cell_type": "code",
   "execution_count": 11,
   "id": "01361f02",
   "metadata": {},
   "outputs": [
    {
     "name": "stdout",
     "output_type": "stream",
     "text": [
      "The Ducati Panigale V4 Bike gives the mileage of 39.53km/l\n",
      "The Kawasaki Ninja H2 Bike gives the mileage of 16km/l\n",
      "This is the description method of class Kawasaki.\n"
     ]
    }
   ],
   "source": [
    "obj1 = Ducati(\"Ducati Panigale V4\",39.53)\n",
    "print(obj1.description())\n",
    "obj2 = Kawasaki(\"Kawasaki Ninja H2\",16)\n",
    "print(obj2.description())\n",
    "print(obj2.audi_desc())"
   ]
  },
  {
   "cell_type": "markdown",
   "id": "32c1a97d",
   "metadata": {},
   "source": [
    "# Encapsulation"
   ]
  },
  {
   "cell_type": "code",
   "execution_count": 59,
   "id": "53e72ec9",
   "metadata": {},
   "outputs": [],
   "source": [
    "class bike:\n",
    "\n",
    "    def __init__(self, name, mileage):\n",
    "        self._name = name                \n",
    "        self.mileage = mileage \n",
    "\n",
    "    def description(self):                \n",
    "        return f\"The {self._name} bike gives the mileage of {self.mileage}km/l\""
   ]
  },
  {
   "cell_type": "code",
   "execution_count": 61,
   "id": "66f2ac08",
   "metadata": {},
   "outputs": [
    {
     "name": "stdout",
     "output_type": "stream",
     "text": [
      "The Harley Davidson FXDR 114 bike gives the mileage of 21km/l\n",
      "Harley Davidson FXDR 114\n",
      "21\n"
     ]
    }
   ],
   "source": [
    "obj = bike(\"Harley Davidson FXDR 114\",21)\n",
    "print(obj.description())\n",
    "print(obj._name)\n",
    "print(obj.mileage)"
   ]
  },
  {
   "cell_type": "markdown",
   "id": "0a35cc85",
   "metadata": {},
   "source": [
    "# Polymorphism "
   ]
  },
  {
   "cell_type": "code",
   "execution_count": 34,
   "id": "10ce805d",
   "metadata": {},
   "outputs": [],
   "source": [
    "class Audi:\n",
    "    def description(self):\n",
    "        print(\"This the name of class AUDI.\")\n",
    "\n",
    "class BMW:\n",
    "    def description(self):\n",
    "        print(\"This the name of class BMW.\")"
   ]
  },
  {
   "cell_type": "code",
   "execution_count": 35,
   "id": "cc5c0c53",
   "metadata": {},
   "outputs": [
    {
     "name": "stdout",
     "output_type": "stream",
     "text": [
      "This the name of class AUDI.\n",
      "This the name of class BMW.\n"
     ]
    }
   ],
   "source": [
    "audi = Audi()\n",
    "bmw = BMW()\n",
    "for bike in (audi,bmw):\n",
    "    bike.description()"
   ]
  },
  {
   "cell_type": "markdown",
   "id": "5d731c1e",
   "metadata": {},
   "source": [
    "# Write a program to show the use of any 10 built in function:"
   ]
  },
  {
   "cell_type": "markdown",
   "id": "f09fe764",
   "metadata": {},
   "source": [
    "### Input "
   ]
  },
  {
   "cell_type": "code",
   "execution_count": 5,
   "id": "84533f18",
   "metadata": {},
   "outputs": [
    {
     "name": "stdout",
     "output_type": "stream",
     "text": [
      "Enter Your Name:Amruth\n",
      "Amruth\n"
     ]
    }
   ],
   "source": [
    "name=str(input(\"Enter Your Name:\"))\n",
    "print(name)"
   ]
  },
  {
   "cell_type": "markdown",
   "id": "9aeb949d",
   "metadata": {},
   "source": [
    "### chr()"
   ]
  },
  {
   "cell_type": "code",
   "execution_count": 6,
   "id": "80519739",
   "metadata": {},
   "outputs": [
    {
     "data": {
      "text/plain": [
       "'A'"
      ]
     },
     "execution_count": 6,
     "metadata": {},
     "output_type": "execute_result"
    }
   ],
   "source": [
    "chr(65)"
   ]
  },
  {
   "cell_type": "markdown",
   "id": "f3781c18",
   "metadata": {},
   "source": [
    "### exec() "
   ]
  },
  {
   "cell_type": "code",
   "execution_count": 12,
   "id": "209ad59d",
   "metadata": {},
   "outputs": [
    {
     "name": "stdout",
     "output_type": "stream",
     "text": [
      "5\n"
     ]
    }
   ],
   "source": [
    "exec('a=2;b=3;print(a+b)')"
   ]
  },
  {
   "cell_type": "markdown",
   "id": "aae78fab",
   "metadata": {},
   "source": [
    "### isinstance()"
   ]
  },
  {
   "cell_type": "code",
   "execution_count": 18,
   "id": "f4468027",
   "metadata": {},
   "outputs": [
    {
     "data": {
      "text/plain": [
       "False"
      ]
     },
     "execution_count": 18,
     "metadata": {},
     "output_type": "execute_result"
    }
   ],
   "source": [
    "isinstance(0,str)"
   ]
  },
  {
   "cell_type": "markdown",
   "id": "a5827b1b",
   "metadata": {},
   "source": [
    "### iter()"
   ]
  },
  {
   "cell_type": "code",
   "execution_count": 19,
   "id": "c25903ae",
   "metadata": {},
   "outputs": [
    {
     "name": "stdout",
     "output_type": "stream",
     "text": [
      "1\n",
      "2\n",
      "3\n"
     ]
    }
   ],
   "source": [
    "for i in iter([1,2,3]):\n",
    "            print(i)"
   ]
  },
  {
   "cell_type": "markdown",
   "id": "f34cf4f2",
   "metadata": {},
   "source": [
    "### enumerate "
   ]
  },
  {
   "cell_type": "code",
   "execution_count": 23,
   "id": "13d095fe",
   "metadata": {},
   "outputs": [
    {
     "name": "stdout",
     "output_type": "stream",
     "text": [
      "(0, 'chair')\n",
      "(1, 'table')\n",
      "(2, 'closet')\n",
      "(3, 'lamp')\n",
      "Index: 0, Item: chair \n",
      "Index: 1, Item: table \n",
      "Index: 2, Item: closet \n",
      "Index: 3, Item: lamp \n"
     ]
    }
   ],
   "source": [
    "products = ['chair', 'table', 'closet', 'lamp']\n",
    "\n",
    "for product_index in enumerate(products):\n",
    "    print(product_index)\n",
    "for index, item in enumerate(products):\n",
    "    print('Index: {}, Item: {} '.format(index, item))"
   ]
  },
  {
   "cell_type": "markdown",
   "id": "da7c6946",
   "metadata": {},
   "source": [
    "### eval()"
   ]
  },
  {
   "cell_type": "code",
   "execution_count": 26,
   "id": "46b688ce",
   "metadata": {},
   "outputs": [
    {
     "data": {
      "text/plain": [
       "6"
      ]
     },
     "execution_count": 26,
     "metadata": {},
     "output_type": "execute_result"
    }
   ],
   "source": [
    "eval('len(\"Amruth\")')"
   ]
  },
  {
   "cell_type": "markdown",
   "id": "595d32ed",
   "metadata": {},
   "source": [
    "### range "
   ]
  },
  {
   "cell_type": "code",
   "execution_count": 29,
   "id": "c1d1722e",
   "metadata": {},
   "outputs": [
    {
     "name": "stdout",
     "output_type": "stream",
     "text": [
      "10\n",
      "9\n",
      "8\n",
      "7\n",
      "6\n",
      "5\n",
      "4\n",
      "3\n",
      "2\n",
      "1\n"
     ]
    }
   ],
   "source": [
    "for i in range(10, 0, -1):\n",
    "    print(i)"
   ]
  },
  {
   "cell_type": "markdown",
   "id": "fa27c166",
   "metadata": {},
   "source": [
    "### zip "
   ]
  },
  {
   "cell_type": "code",
   "execution_count": 31,
   "id": "aae5a87c",
   "metadata": {},
   "outputs": [
    {
     "data": {
      "text/plain": [
       "[('pencil', 6), ('eraser', 2), ('pen', 5), ('sharpner', 9)]"
      ]
     },
     "execution_count": 31,
     "metadata": {},
     "output_type": "execute_result"
    }
   ],
   "source": [
    "items=(\"pencil\",\"eraser\",\"pen\",\"sharpner\")\n",
    "quantity=[6,2,5,9]\n",
    "zip(items,quantity)\n",
    "list(zip(items,quantity))"
   ]
  },
  {
   "cell_type": "markdown",
   "id": "c9934e6f",
   "metadata": {},
   "source": [
    "### pow() "
   ]
  },
  {
   "cell_type": "code",
   "execution_count": 32,
   "id": "799818b6",
   "metadata": {},
   "outputs": [
    {
     "data": {
      "text/plain": [
       "81"
      ]
     },
     "execution_count": 32,
     "metadata": {},
     "output_type": "execute_result"
    }
   ],
   "source": [
    "pow(3,4)"
   ]
  },
  {
   "cell_type": "markdown",
   "id": "05f9b330",
   "metadata": {},
   "source": [
    "## write a program to show different between different kind of arguments in function"
   ]
  },
  {
   "cell_type": "markdown",
   "id": "960284ba",
   "metadata": {},
   "source": [
    "#### default arguments "
   ]
  },
  {
   "cell_type": "code",
   "execution_count": 2,
   "id": "a8cc84a2",
   "metadata": {},
   "outputs": [
    {
     "name": "stdout",
     "output_type": "stream",
     "text": [
      "4\n"
     ]
    }
   ],
   "source": [
    "def multiply(a,b=2):\n",
    "    return (a*b)\n",
    "print(multiply(2))"
   ]
  },
  {
   "cell_type": "markdown",
   "id": "662f2e56",
   "metadata": {},
   "source": [
    "#### keyword arguments "
   ]
  },
  {
   "cell_type": "code",
   "execution_count": 4,
   "id": "f39dbe18",
   "metadata": {},
   "outputs": [
    {
     "name": "stdout",
     "output_type": "stream",
     "text": [
      "30\n"
     ]
    }
   ],
   "source": [
    "def multiply(a,b=5):\n",
    "    return (a*b)\n",
    "print(multiply(a=25))"
   ]
  },
  {
   "cell_type": "markdown",
   "id": "d61145f6",
   "metadata": {},
   "source": [
    "#### positional arguments "
   ]
  },
  {
   "cell_type": "code",
   "execution_count": 6,
   "id": "a04087fb",
   "metadata": {},
   "outputs": [
    {
     "data": {
      "text/plain": [
       "50"
      ]
     },
     "execution_count": 6,
     "metadata": {},
     "output_type": "execute_result"
    }
   ],
   "source": [
    "def multiply(a,b):\n",
    "    return (a*b)\n",
    "multiply(5,10)"
   ]
  },
  {
   "cell_type": "markdown",
   "id": "dd753103",
   "metadata": {},
   "source": [
    "#### arbitrary positional arguments "
   ]
  },
  {
   "cell_type": "code",
   "execution_count": 10,
   "id": "d4060220",
   "metadata": {},
   "outputs": [
    {
     "name": "stdout",
     "output_type": "stream",
     "text": [
      "24\n",
      "70\n"
     ]
    }
   ],
   "source": [
    "def add(*b):\n",
    "    result=0\n",
    "    for i in b:\n",
    "         result=result+i\n",
    "    return result\n",
    "print (add(3,6,2,9,4))\n",
    "print (add(21,49))"
   ]
  },
  {
   "cell_type": "markdown",
   "id": "49046c00",
   "metadata": {},
   "source": [
    "#### arbitrary keyword arguments "
   ]
  },
  {
   "cell_type": "code",
   "execution_count": 16,
   "id": "6315fc97",
   "metadata": {},
   "outputs": [
    {
     "name": "stdout",
     "output_type": "stream",
     "text": [
      "('num', 12)\n",
      "('color', 'black')\n",
      "('fruits', 'orange')\n"
     ]
    },
    {
     "data": {
      "text/plain": [
       "\"\\nOutput:\\n('numbers', 12)\\n('colors', 'black')\\n('fruits', 'orange')\\n\""
      ]
     },
     "execution_count": 16,
     "metadata": {},
     "output_type": "execute_result"
    }
   ],
   "source": [
    "def default(**a):\n",
    "    for i in a.items():\n",
    "        print (i)\n",
    "default(num=12,color=\"black\",fruits=\"orange\")\n",
    "'''\n",
    "Output:\n",
    "('numbers', 12)\n",
    "('colors', 'black')\n",
    "('fruits', 'orange')\n",
    "'''\n"
   ]
  },
  {
   "cell_type": "code",
   "execution_count": null,
   "id": "79f1a2ab",
   "metadata": {},
   "outputs": [],
   "source": []
  }
 ],
 "metadata": {
  "kernelspec": {
   "display_name": "Python 3 (ipykernel)",
   "language": "python",
   "name": "python3"
  },
  "language_info": {
   "codemirror_mode": {
    "name": "ipython",
    "version": 3
   },
   "file_extension": ".py",
   "mimetype": "text/x-python",
   "name": "python",
   "nbconvert_exporter": "python",
   "pygments_lexer": "ipython3",
   "version": "3.8.10"
  }
 },
 "nbformat": 4,
 "nbformat_minor": 5
}
