{
 "cells": [
  {
   "cell_type": "markdown",
   "id": "5e78ce36",
   "metadata": {},
   "source": [
    "# Password"
   ]
  },
  {
   "cell_type": "code",
   "execution_count": 20,
   "id": "b1379662",
   "metadata": {},
   "outputs": [
    {
     "name": "stdout",
     "output_type": "stream",
     "text": [
      "Enter string to test:Yugabha*123\n",
      "Valid password\n"
     ]
    }
   ],
   "source": [
    "import re\n",
    "pattern = r'(?=.*[A-Z])(?=.*[a-z])(?=.*\\d)(?=.*[!?*#]).{8,}'\n",
    "password=input(\"Enter string to test:\") \n",
    "result = re.search(pattern, password)\n",
    "\n",
    "if (result):\n",
    "    print(\"Valid password\")\n",
    "\n",
    "else:\n",
    "    print(\"Password not valid\")"
   ]
  },
  {
   "cell_type": "markdown",
   "id": "d701be38",
   "metadata": {},
   "source": [
    "# regex time"
   ]
  },
  {
   "cell_type": "code",
   "execution_count": 4,
   "id": "b991ad45",
   "metadata": {},
   "outputs": [
    {
     "name": "stdout",
     "output_type": "stream",
     "text": [
      "10:45 pm\n"
     ]
    }
   ],
   "source": [
    "import re\n",
    "Time=\"10:45 pm\"\n",
    "re.findall(\"\\s(\\d{2}\\:\\d{2}\\s?(?:AM|PM|am|pm))\",Time)\n",
    "print(Time)"
   ]
  },
  {
   "cell_type": "markdown",
   "id": "61f37bfb",
   "metadata": {},
   "source": [
    "# regex marks and name"
   ]
  },
  {
   "cell_type": "code",
   "execution_count": 5,
   "id": "24e614aa",
   "metadata": {},
   "outputs": [
    {
     "name": "stdout",
     "output_type": "stream",
     "text": [
      "['Aamruth-100', ',Kavin-90', ',Sharbadeepa-35', ',Vijay-0', ',Yuga-100']\n"
     ]
    }
   ],
   "source": [
    "Report_Card=\"Aamruth-100,Kavin-90,Sharbadeepa-35,Vijay-0,Yuga-100\"\n",
    "result=re.findall(r'\\D+\\w\\d{0,2}',Report_Card)\n",
    "print(result)"
   ]
  }
 ],
 "metadata": {
  "kernelspec": {
   "display_name": "Python 3 (ipykernel)",
   "language": "python",
   "name": "python3"
  },
  "language_info": {
   "codemirror_mode": {
    "name": "ipython",
    "version": 3
   },
   "file_extension": ".py",
   "mimetype": "text/x-python",
   "name": "python",
   "nbconvert_exporter": "python",
   "pygments_lexer": "ipython3",
   "version": "3.8.10"
  }
 },
 "nbformat": 4,
 "nbformat_minor": 5
}
